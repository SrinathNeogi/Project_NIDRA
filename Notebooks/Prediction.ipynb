{
 "cells": [
  {
   "cell_type": "markdown",
   "id": "8a7f7ace-7c76-4987-9494-e012b8a1706e",
   "metadata": {},
   "source": [
    "<p style=\"font-weight:600; font-size:30px; color:yellow; padding-left:8px;\">\n",
    "    <b>Prediction and Testing</b>\n",
    "</p>"
   ]
  },
  {
   "cell_type": "code",
   "execution_count": 1,
   "id": "980b4f9b-ebbd-46d0-b43d-623eb2b5092a",
   "metadata": {},
   "outputs": [],
   "source": [
    "import numpy as np\n",
    "import pandas as pd\n",
    "import matplotlib.pyplot as plt\n",
    "import seaborn as sns\n",
    "import warnings\n",
    "\n",
    "warnings.filterwarnings('ignore')"
   ]
  },
  {
   "cell_type": "code",
   "execution_count": 2,
   "id": "34bc78e2-cf69-4d46-9a96-580b057a392d",
   "metadata": {},
   "outputs": [
    {
     "data": {
      "text/html": [
       "<div>\n",
       "<style scoped>\n",
       "    .dataframe tbody tr th:only-of-type {\n",
       "        vertical-align: middle;\n",
       "    }\n",
       "\n",
       "    .dataframe tbody tr th {\n",
       "        vertical-align: top;\n",
       "    }\n",
       "\n",
       "    .dataframe thead th {\n",
       "        text-align: right;\n",
       "    }\n",
       "</style>\n",
       "<table border=\"1\" class=\"dataframe\">\n",
       "  <thead>\n",
       "    <tr style=\"text-align: right;\">\n",
       "      <th></th>\n",
       "      <th>Gender</th>\n",
       "      <th>Age</th>\n",
       "      <th>Sleep Duration</th>\n",
       "      <th>Physical Activity Level</th>\n",
       "      <th>Stress Level</th>\n",
       "      <th>BMI Category</th>\n",
       "      <th>Heart Rate</th>\n",
       "      <th>Daily Steps</th>\n",
       "      <th>Sleep Disorder</th>\n",
       "      <th>Systolic_BP</th>\n",
       "      <th>Diastolic_BP</th>\n",
       "      <th>Quality_of_Sleep</th>\n",
       "    </tr>\n",
       "  </thead>\n",
       "  <tbody>\n",
       "    <tr>\n",
       "      <th>0</th>\n",
       "      <td>1</td>\n",
       "      <td>-1.753096</td>\n",
       "      <td>-1.298887</td>\n",
       "      <td>-0.825418</td>\n",
       "      <td>0.347021</td>\n",
       "      <td>3</td>\n",
       "      <td>1.654719</td>\n",
       "      <td>-1.619584</td>\n",
       "      <td>1</td>\n",
       "      <td>-0.330002</td>\n",
       "      <td>-0.330002</td>\n",
       "      <td>6</td>\n",
       "    </tr>\n",
       "    <tr>\n",
       "      <th>1</th>\n",
       "      <td>1</td>\n",
       "      <td>-1.637643</td>\n",
       "      <td>-1.173036</td>\n",
       "      <td>0.039844</td>\n",
       "      <td>1.475592</td>\n",
       "      <td>0</td>\n",
       "      <td>1.170474</td>\n",
       "      <td>1.970077</td>\n",
       "      <td>1</td>\n",
       "      <td>-0.459239</td>\n",
       "      <td>-0.459239</td>\n",
       "      <td>6</td>\n",
       "    </tr>\n",
       "    <tr>\n",
       "      <th>2</th>\n",
       "      <td>1</td>\n",
       "      <td>-1.637643</td>\n",
       "      <td>-1.173036</td>\n",
       "      <td>0.039844</td>\n",
       "      <td>1.475592</td>\n",
       "      <td>0</td>\n",
       "      <td>1.170474</td>\n",
       "      <td>1.970077</td>\n",
       "      <td>1</td>\n",
       "      <td>-0.459239</td>\n",
       "      <td>-0.459239</td>\n",
       "      <td>6</td>\n",
       "    </tr>\n",
       "    <tr>\n",
       "      <th>3</th>\n",
       "      <td>1</td>\n",
       "      <td>-1.637643</td>\n",
       "      <td>-1.550588</td>\n",
       "      <td>-1.402260</td>\n",
       "      <td>1.475592</td>\n",
       "      <td>2</td>\n",
       "      <td>3.591698</td>\n",
       "      <td>-2.362273</td>\n",
       "      <td>2</td>\n",
       "      <td>1.479309</td>\n",
       "      <td>1.479309</td>\n",
       "      <td>4</td>\n",
       "    </tr>\n",
       "    <tr>\n",
       "      <th>4</th>\n",
       "      <td>1</td>\n",
       "      <td>-1.637643</td>\n",
       "      <td>-1.550588</td>\n",
       "      <td>-1.402260</td>\n",
       "      <td>1.475592</td>\n",
       "      <td>2</td>\n",
       "      <td>3.591698</td>\n",
       "      <td>-2.362273</td>\n",
       "      <td>2</td>\n",
       "      <td>1.479309</td>\n",
       "      <td>1.479309</td>\n",
       "      <td>4</td>\n",
       "    </tr>\n",
       "    <tr>\n",
       "      <th>...</th>\n",
       "      <td>...</td>\n",
       "      <td>...</td>\n",
       "      <td>...</td>\n",
       "      <td>...</td>\n",
       "      <td>...</td>\n",
       "      <td>...</td>\n",
       "      <td>...</td>\n",
       "      <td>...</td>\n",
       "      <td>...</td>\n",
       "      <td>...</td>\n",
       "      <td>...</td>\n",
       "      <td>...</td>\n",
       "    </tr>\n",
       "    <tr>\n",
       "      <th>369</th>\n",
       "      <td>0</td>\n",
       "      <td>1.941401</td>\n",
       "      <td>1.218127</td>\n",
       "      <td>0.760896</td>\n",
       "      <td>-1.345836</td>\n",
       "      <td>3</td>\n",
       "      <td>-0.524383</td>\n",
       "      <td>0.113356</td>\n",
       "      <td>2</td>\n",
       "      <td>1.479309</td>\n",
       "      <td>1.479309</td>\n",
       "      <td>9</td>\n",
       "    </tr>\n",
       "    <tr>\n",
       "      <th>370</th>\n",
       "      <td>0</td>\n",
       "      <td>1.941401</td>\n",
       "      <td>1.092276</td>\n",
       "      <td>0.760896</td>\n",
       "      <td>-1.345836</td>\n",
       "      <td>3</td>\n",
       "      <td>-0.524383</td>\n",
       "      <td>0.113356</td>\n",
       "      <td>2</td>\n",
       "      <td>1.479309</td>\n",
       "      <td>1.479309</td>\n",
       "      <td>9</td>\n",
       "    </tr>\n",
       "    <tr>\n",
       "      <th>371</th>\n",
       "      <td>0</td>\n",
       "      <td>1.941401</td>\n",
       "      <td>1.218127</td>\n",
       "      <td>0.760896</td>\n",
       "      <td>-1.345836</td>\n",
       "      <td>3</td>\n",
       "      <td>-0.524383</td>\n",
       "      <td>0.113356</td>\n",
       "      <td>2</td>\n",
       "      <td>1.479309</td>\n",
       "      <td>1.479309</td>\n",
       "      <td>9</td>\n",
       "    </tr>\n",
       "    <tr>\n",
       "      <th>372</th>\n",
       "      <td>0</td>\n",
       "      <td>1.941401</td>\n",
       "      <td>1.218127</td>\n",
       "      <td>0.760896</td>\n",
       "      <td>-1.345836</td>\n",
       "      <td>3</td>\n",
       "      <td>-0.524383</td>\n",
       "      <td>0.113356</td>\n",
       "      <td>2</td>\n",
       "      <td>1.479309</td>\n",
       "      <td>1.479309</td>\n",
       "      <td>9</td>\n",
       "    </tr>\n",
       "    <tr>\n",
       "      <th>373</th>\n",
       "      <td>0</td>\n",
       "      <td>1.941401</td>\n",
       "      <td>1.218127</td>\n",
       "      <td>0.760896</td>\n",
       "      <td>-1.345836</td>\n",
       "      <td>3</td>\n",
       "      <td>-0.524383</td>\n",
       "      <td>0.113356</td>\n",
       "      <td>2</td>\n",
       "      <td>1.479309</td>\n",
       "      <td>1.479309</td>\n",
       "      <td>9</td>\n",
       "    </tr>\n",
       "  </tbody>\n",
       "</table>\n",
       "<p>374 rows × 12 columns</p>\n",
       "</div>"
      ],
      "text/plain": [
       "     Gender       Age  Sleep Duration  Physical Activity Level  Stress Level  \\\n",
       "0         1 -1.753096       -1.298887                -0.825418      0.347021   \n",
       "1         1 -1.637643       -1.173036                 0.039844      1.475592   \n",
       "2         1 -1.637643       -1.173036                 0.039844      1.475592   \n",
       "3         1 -1.637643       -1.550588                -1.402260      1.475592   \n",
       "4         1 -1.637643       -1.550588                -1.402260      1.475592   \n",
       "..      ...       ...             ...                      ...           ...   \n",
       "369       0  1.941401        1.218127                 0.760896     -1.345836   \n",
       "370       0  1.941401        1.092276                 0.760896     -1.345836   \n",
       "371       0  1.941401        1.218127                 0.760896     -1.345836   \n",
       "372       0  1.941401        1.218127                 0.760896     -1.345836   \n",
       "373       0  1.941401        1.218127                 0.760896     -1.345836   \n",
       "\n",
       "     BMI Category  Heart Rate  Daily Steps  Sleep Disorder  Systolic_BP  \\\n",
       "0               3    1.654719    -1.619584               1    -0.330002   \n",
       "1               0    1.170474     1.970077               1    -0.459239   \n",
       "2               0    1.170474     1.970077               1    -0.459239   \n",
       "3               2    3.591698    -2.362273               2     1.479309   \n",
       "4               2    3.591698    -2.362273               2     1.479309   \n",
       "..            ...         ...          ...             ...          ...   \n",
       "369             3   -0.524383     0.113356               2     1.479309   \n",
       "370             3   -0.524383     0.113356               2     1.479309   \n",
       "371             3   -0.524383     0.113356               2     1.479309   \n",
       "372             3   -0.524383     0.113356               2     1.479309   \n",
       "373             3   -0.524383     0.113356               2     1.479309   \n",
       "\n",
       "     Diastolic_BP  Quality_of_Sleep  \n",
       "0       -0.330002                 6  \n",
       "1       -0.459239                 6  \n",
       "2       -0.459239                 6  \n",
       "3        1.479309                 4  \n",
       "4        1.479309                 4  \n",
       "..            ...               ...  \n",
       "369      1.479309                 9  \n",
       "370      1.479309                 9  \n",
       "371      1.479309                 9  \n",
       "372      1.479309                 9  \n",
       "373      1.479309                 9  \n",
       "\n",
       "[374 rows x 12 columns]"
      ]
     },
     "execution_count": 2,
     "metadata": {},
     "output_type": "execute_result"
    }
   ],
   "source": [
    "df = pd.read_csv('Scaled_Cleaned_Dataset.csv')\n",
    "data = df.copy()\n",
    "data"
   ]
  },
  {
   "cell_type": "code",
   "execution_count": 3,
   "id": "fffcc65d-e355-4364-a1bc-19dd6d026f00",
   "metadata": {},
   "outputs": [
    {
     "data": {
      "text/plain": [
       "['Gender', 'Occupation', 'BMI Category', 'Blood Pressure', 'Sleep Disorder']"
      ]
     },
     "execution_count": 3,
     "metadata": {},
     "output_type": "execute_result"
    }
   ],
   "source": [
    "main = pd.read_csv('Sleep_health_and_lifestyle_dataset.csv')\n",
    "categorical_main = list(main.select_dtypes(include='object').columns)\n",
    "categorical_main"
   ]
  },
  {
   "cell_type": "code",
   "execution_count": 4,
   "id": "c8a07ca8-8f50-4549-b276-a22cb298f426",
   "metadata": {},
   "outputs": [
    {
     "data": {
      "text/plain": [
       "['Person ID',\n",
       " 'Age',\n",
       " 'Sleep Duration',\n",
       " 'Quality of Sleep',\n",
       " 'Physical Activity Level',\n",
       " 'Stress Level',\n",
       " 'Heart Rate',\n",
       " 'Daily Steps']"
      ]
     },
     "execution_count": 4,
     "metadata": {},
     "output_type": "execute_result"
    }
   ],
   "source": [
    "numerical_main = list(main.select_dtypes(include='number').columns)\n",
    "numerical_main"
   ]
  },
  {
   "cell_type": "code",
   "execution_count": 5,
   "id": "308fc5cd-9335-4afa-bf2e-a092b90c9b2d",
   "metadata": {},
   "outputs": [
    {
     "data": {
      "text/plain": [
       "['Gender', 'BMI Category', 'Blood Pressure', 'Sleep Disorder']"
      ]
     },
     "execution_count": 5,
     "metadata": {},
     "output_type": "execute_result"
    }
   ],
   "source": [
    "categorical_main.remove('Occupation')\n",
    "categorical_main"
   ]
  },
  {
   "cell_type": "code",
   "execution_count": 6,
   "id": "f10dbce8-9d6c-4f20-9aac-b2bc000eb900",
   "metadata": {},
   "outputs": [
    {
     "data": {
      "text/plain": [
       "['Gender',\n",
       " 'Age',\n",
       " 'Sleep Duration',\n",
       " 'Physical Activity Level',\n",
       " 'Stress Level',\n",
       " 'BMI Category',\n",
       " 'Heart Rate',\n",
       " 'Daily Steps',\n",
       " 'Sleep Disorder',\n",
       " 'Systolic_BP',\n",
       " 'Diastolic_BP',\n",
       " 'Quality_of_Sleep']"
      ]
     },
     "execution_count": 6,
     "metadata": {},
     "output_type": "execute_result"
    }
   ],
   "source": [
    "scaled_numerical = list(data.select_dtypes(include='number').columns)\n",
    "scaled_numerical"
   ]
  },
  {
   "cell_type": "code",
   "execution_count": 7,
   "id": "75eb32f3-86c7-4ca6-93c6-9366e03e7394",
   "metadata": {},
   "outputs": [
    {
     "name": "stdout",
     "output_type": "stream",
     "text": [
      "   Encoded     BMI_type\n",
      "0        0       Normal\n",
      "1        2   Overweight\n",
      "2        1        Obese\n",
      "3        3  Underweight\n",
      "   Encoded  Gender\n",
      "0        1    Male\n",
      "1        0  Female\n",
      "   Encoded Sleep_disorder\n",
      "0        1         Normal\n",
      "1        0       Insomnia\n",
      "2        2    Sleep Apnea\n"
     ]
    }
   ],
   "source": [
    "bmi_encoded = pd.read_csv('BMI_encoded.csv')\n",
    "print(bmi_encoded)\n",
    "gender_encoded = pd.read_csv('Gender_encoded.csv')\n",
    "print(gender_encoded)\n",
    "sleep_disorder_encoded = pd.read_csv('Sleep_disorder_encoded.csv')\n",
    "print(sleep_disorder_encoded)"
   ]
  },
  {
   "cell_type": "code",
   "execution_count": 18,
   "id": "8fb5277e-cbea-4fa2-a246-f4712a63ea6c",
   "metadata": {},
   "outputs": [
    {
     "name": "stdin",
     "output_type": "stream",
     "text": [
      "Enter Gender (Male/Female):  Male\n",
      "Enter BMI Category (Normal/Obese/Overweight/Underweight):  Normal\n",
      "Enter Sleep Disorder (Normal/Insomnia/Sleep Apnea):  Normal\n",
      "Enter Age:  78\n",
      "Enter Sleep Duration (hours):  4\n",
      "Enter Physical Activity Level (minutes/day):  0\n",
      "Enter Stress Level (1-10):  10\n",
      "Enter Heart Rate:  100\n",
      "Enter Daily Steps:  100\n",
      "Enter Systolic BP:  280\n",
      "Enter Diastolic BP:  180\n"
     ]
    },
    {
     "name": "stdout",
     "output_type": "stream",
     "text": [
      "\n",
      "Model Predictions: [6.9076937401819025, 6.0, 7.14, 8.0, 5.880019949668168, 7.0483789697169055]\n",
      "Final Averaged Prediction: 6.829348776594497\n"
     ]
    }
   ],
   "source": [
    "import joblib\n",
    "import numpy as np\n",
    "\n",
    "# ==============================\n",
    "# Load Scaler and Models\n",
    "# ==============================\n",
    "with open(\"scaler.pkl\", \"rb\") as f:\n",
    "    scalers = joblib.load(f)   # dict of scalers (one per column)\n",
    "\n",
    "model_names = [\"GradientBoosting_model.pkl\", \"KNN_model.pkl\", \n",
    "               \"RandomForest_model.pkl\", \"DecisionTree_model.pkl\", \n",
    "               \"LinearRegression_model.pkl\", \"SVR_model.pkl\"]\n",
    "\n",
    "models = []\n",
    "for name in model_names:\n",
    "    with open(name, \"rb\") as f:\n",
    "        models.append(joblib.load(f))\n",
    "\n",
    "# ==============================\n",
    "# Encoders (mapping)\n",
    "# ==============================\n",
    "gender_map = {\"Male\": 1, \"Female\": 0}\n",
    "bmi_map = {\"Normal\": 0, \"Obese\": 1, \"Overweight\": 2, \"Underweight\": 3}\n",
    "sleep_map = {\"Normal\": 1, \"Insomnia\": 0, \"Sleep Apnea\": 2}\n",
    "\n",
    "# Column order for numerical features\n",
    "numerical_cols = [\n",
    "    'Age', 'Sleep Duration', 'Physical Activity Level',\n",
    "    'Stress Level', 'Heart Rate', 'Daily Steps',\n",
    "    'Systolic_BP', 'Diastolic_BP'\n",
    "]\n",
    "\n",
    "# ==============================\n",
    "# Function to take input\n",
    "# ==============================\n",
    "def get_user_input():\n",
    "    data = {}\n",
    "\n",
    "    # Categorical inputs\n",
    "    data['Gender'] = input(\"Enter Gender (Male/Female): \").strip()\n",
    "    data['BMI Category'] = input(\"Enter BMI Category (Normal/Obese/Overweight/Underweight): \").strip()\n",
    "    data['Sleep Disorder'] = input(\"Enter Sleep Disorder (Normal/Insomnia/Sleep Apnea): \").strip()\n",
    "\n",
    "    # Numerical inputs\n",
    "    data['Age'] = float(input(\"Enter Age: \"))\n",
    "    sleep_duration = float(input(\"Enter Sleep Duration (hours): \"))\n",
    "    data['Sleep Duration'] = 12 - sleep_duration\n",
    "    data['Physical Activity Level'] = float(input(\"Enter Physical Activity Level (minutes/day): \"))\n",
    "    data['Stress Level'] = float(input(\"Enter Stress Level (1-10): \"))\n",
    "    data['Heart Rate'] = float(input(\"Enter Heart Rate: \"))\n",
    "    data['Daily Steps'] = float(input(\"Enter Daily Steps: \"))\n",
    "    data['Systolic_BP'] = float(input(\"Enter Systolic BP: \"))\n",
    "    data['Diastolic_BP'] = float(input(\"Enter Diastolic BP: \"))\n",
    "\n",
    "    return data\n",
    "\n",
    "# ==============================\n",
    "# Preprocess input\n",
    "# ==============================\n",
    "def preprocess_input(data):\n",
    "    # Encode categorical\n",
    "    gender = gender_map[data['Gender']]\n",
    "    bmi = bmi_map[data['BMI Category']]\n",
    "    sleep = sleep_map[data['Sleep Disorder']]\n",
    "\n",
    "    # Scale numerical values column by column\n",
    "    numerical_scaled = []\n",
    "    for col in numerical_cols:\n",
    "        value = np.array([[data[col]]])  # make 2D for transform\n",
    "        scaled_val = scalers[col].transform(value)[0][0]\n",
    "        numerical_scaled.append(scaled_val)\n",
    "\n",
    "    # Final feature vector\n",
    "    features = np.hstack([gender, bmi, sleep, numerical_scaled])\n",
    "    return features.reshape(1, -1)\n",
    "\n",
    "# ==============================\n",
    "# Prediction\n",
    "# ==============================\n",
    "def predict_sleep_score(features):\n",
    "    predictions = []\n",
    "    for model in models:\n",
    "        pred = model.predict(features)[0]\n",
    "        predictions.append(pred)\n",
    "\n",
    "    final_pred = np.mean(predictions)\n",
    "    return predictions, final_pred\n",
    "\n",
    "# ==============================\n",
    "# Run the pipeline\n",
    "# ==============================\n",
    "if __name__ == \"__main__\":\n",
    "    user_data = get_user_input()\n",
    "    features = preprocess_input(user_data)\n",
    "    all_preds, avg_pred = predict_sleep_score(features)\n",
    "\n",
    "    print(\"\\nModel Predictions:\", all_preds)\n",
    "    print(\"Final Averaged Prediction:\", avg_pred)\n"
   ]
  },
  {
   "cell_type": "code",
   "execution_count": 11,
   "id": "24c85c36-ba29-4704-aac8-f68cc9382ee4",
   "metadata": {},
   "outputs": [
    {
     "name": "stdout",
     "output_type": "stream",
     "text": [
      "3.12.4 | packaged by Anaconda, Inc. | (main, Jun 18 2024, 15:03:56) [MSC v.1929 64 bit (AMD64)]\n"
     ]
    }
   ],
   "source": [
    "import sys\n",
    "print(sys.version)\n"
   ]
  },
  {
   "cell_type": "code",
   "execution_count": 16,
   "id": "b196aca4-6ce4-4214-be30-b6c8a57f46f4",
   "metadata": {},
   "outputs": [
    {
     "data": {
      "text/plain": [
       "<Axes: >"
      ]
     },
     "execution_count": 16,
     "metadata": {},
     "output_type": "execute_result"
    },
    {
     "data": {
      "image/png": "[encoded data removed]",
      "text/plain": [
       "<Figure size 640x480 with 2 Axes>"
      ]
     },
     "metadata": {},
     "output_type": "display_data"
    }
   ],
   "source": [
    "correlation = data[['Sleep Duration', 'Quality_of_Sleep']].corr()\n",
    "\n",
    "import seaborn as sns\n",
    "\n",
    "sns.heatmap(correlation, annot=True, cmap='viridis')"
   ]
  },
  {
   "cell_type": "code",
   "execution_count": 19,
   "id": "a2213e80-74f4-496f-b7f4-9b3e5bae6284",
   "metadata": {},
   "outputs": [
    {
     "data": {
      "text/plain": [
       "<Axes: >"
      ]
     },
     "execution_count": 19,
     "metadata": {},
     "output_type": "execute_result"
    },
    {
     "data": {
      "image/png": "[encoded data removed]",
      "text/plain": [
       "<Figure size 640x480 with 2 Axes>"
      ]
     },
     "metadata": {},
     "output_type": "display_data"
    }
   ],
   "source": [
    "correlation = data[['Stress Level', 'Quality_of_Sleep']].corr()\n",
    "\n",
    "import seaborn as sns\n",
    "\n",
    "sns.heatmap(correlation, annot=True, cmap='viridis')"
   ]
  },
  {
   "cell_type": "code",
   "execution_count": null,
   "id": "fb0d330a-3955-4306-97c1-b395df69fe10",
   "metadata": {},
   "outputs": [],
   "source": []
  }
 ],
 "metadata": {
  "kernelspec": {
   "display_name": "Python 3 (ipykernel)",
   "language": "python",
   "name": "python3"
  },
  "language_info": {
   "codemirror_mode": {
    "name": "ipython",
    "version": 3
   },
   "file_extension": ".py",
   "mimetype": "text/x-python",
   "name": "python",
   "nbconvert_exporter": "python",
   "pygments_lexer": "ipython3",
   "version": "3.12.4"
  }
 },
 "nbformat": 4,
 "nbformat_minor": 5
}
