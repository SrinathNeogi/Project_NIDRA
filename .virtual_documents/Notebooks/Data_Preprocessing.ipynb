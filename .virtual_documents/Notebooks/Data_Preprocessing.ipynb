








import numpy as np
import pandas as pd
import matplotlib.pyplot as plt
import seaborn as sns
import warnings

warnings.filterwarnings('ignore')





df = pd.read_csv('Cleaned_Dataset.csv')
df





categorical_cols = df.select_dtypes(include='object').columns.to_list()
categorical_cols


data = df.copy()
data


from sklearn.preprocessing import LabelEncoder

le = LabelEncoder()

for col in categorical_cols:
    data[col] = le.fit_transform(data[col])

print("Label Encoding done!")

for col in categorical_cols:
    print(data[col].value_counts())

for col in categorical_cols:
    print(df[col].value_counts())


gender_maper = {
    1 : 'Male',
    0 : 'Female'
}
bmi_maper = {
    0 : 'Normal',
    2 : 'Overweight',    
    1 : 'Obese',    
    3 : 'Underweight'    
}
sleep_disorder_maper = {
    1 : 'Normal',         
    0 : 'Insomnia',        
    2 : 'Sleep Apnea'
}


# Converting Dictionary into DataFrame

gender_df = pd.DataFrame(list(gender_maper.items()), columns=["Encoded", "Gender"])
bmi_df = pd.DataFrame(list(bmi_maper.items()), columns=['Encoded', 'BMI_type'])
sleep_disorder_df = pd.DataFrame(list(sleep_disorder_maper.items()), columns=['Encoded', 'Sleep_disorder'])


# Converting DataFrame into .csv files for future use

gender_df.to_csv('Gender_encoded.csv', index=False)
bmi_df.to_csv('BMI_encoded.csv', index=False)
sleep_disorder_df.to_csv('Sleep_disorder_encoded.csv', index=False)





data.head()


numerical_cols = list(df.select_dtypes(include='number').columns)
numerical_cols


# Target is removed from numerical columns
numerical_cols = numerical_cols[:-1]
numerical_cols


colors = ['red', 'cyan', 'yellow', 'green', 'orange', 'magenta', 'blue', 'lime']

plt.figure(figsize=(18,15))

for i, col in enumerate(numerical_cols):
    plt.subplot(4,4,i+1)
    sns.histplot(data[col], kde=True,color=colors[i], label=f"{col}", alpha=0.8)
    plt.xlabel(f"{col}")
    plt.ylabel("count")

plt.grid(color='black', linestyle='--', alpha=0.5)
plt.show()





from sklearn.preprocessing import StandardScaler

scaler = StandardScaler()

for col in numerical_cols:
    data[col] = scaler.fit_transform(data[[col]]) 
    
data


# Save the Scaler
import joblib

joblib.dump(scaler, 'scaler.pkl')

print("Scaler saved successfully!")





colors = ['red', 'cyan', 'yellow', 'green', 'orange', 'magenta', 'blue', 'lime']

plt.figure(figsize=(18,15))

for i, col in enumerate(numerical_cols):
    plt.subplot(4,4,i+1)
    sns.histplot(data[col], kde=True,color=colors[i], label=f"{col}", alpha=0.8)
    plt.xlabel(f"{col}")
    plt.ylabel("count")

plt.grid(color='black', linestyle='--', alpha=0.5)
plt.show()


# save scaled dataset as csv file

data.to_csv('Scaled_Cleaned_Dataset', index=False)
print("Scaled Dataset saved for ML Model training!")



