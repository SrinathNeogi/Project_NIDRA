


import numpy as np
import pandas as pd
import matplotlib.pyplot as plt
import seaborn as sns
import warnings

warnings.filterwarnings('ignore')








df = pd.read_csv('Sleep_health_and_lifestyle_dataset.csv')
df


df.columns


# Data copied for future use and to keep original DataFrame intact
# Deep copy
data = df.copy()
data


data.columns





# Person ID column is dropped
data.drop('Person ID', axis=1, inplace=True)
data


# Occupation is dropped as this column is useless, will just increase Curse of Dimensionality

data.drop('Occupation', axis=1, inplace=True)

data


# Shifting target -> Quality of Sleep to the last column
data1 = data.drop('Quality of Sleep', axis=1) 
data1['Quality_of_Sleep'] = data['Quality of Sleep']


data1


data1.info()
# 4 Categorical columns 


data1.isna().sum()
# There is only NaN values in Sleep Disorder, but that means its valid, so no need to remove NaN values here


# Replacing NaN in Sleep Disorder column with "Normal", for ease of data cleaning.
data1['Sleep Disorder'].fillna('Normal', inplace=True)


# Checking Numerical columns
data1.select_dtypes(include='number').describe()


data1.select_dtypes(include='object')


# Listing Numerical and Categorical columns

numerical_cols = data1.select_dtypes(include='number').columns.to_list()
categorical_cols = data1.select_dtypes(include='object').columns.to_list()

print(f"Numerical columns = {numerical_cols}\n")
print(f"Categorical columns = {categorical_cols}")


for col in categorical_cols:
    print(f"{data1[col].value_counts()}\n")


data1.duplicated().sum()
# Here we can see there is no duplicates


data1


# Have to change the Blood Pressure column as its in a inconsistent form
data1['Blood Pressure']


type(data1['Blood Pressure'][0])
# Data is in string format  


data1[['Systolic_BP', 'Diastolic_BP']] = data1['Blood Pressure'].str.split('/', expand=True)
# Making two separate columns for Systolic and Diastolic BP
data1[['Systolic_BP', 'Diastolic_BP']]


# Convert ['Systolic_BP', 'Diastolic_BP'] into numeric

data1['Systolic_BP'] = pd.to_numeric(data1['Systolic_BP'])
data1['Diastolic_BP'] = pd.to_numeric(data1['Systolic_BP'])

print(f"{type(data1['Systolic_BP'][0])}\n{type(data1['Diastolic_BP'][0])}")


# Now drop Blood Pressure column

#data1.drop('Blood Pressure', axis=1, inplace=True) -> done
data1


data1.columns





# Loop through each numeric column
for col in numerical_cols:
    Q1 = data1[col].quantile(0.25)
    Q3 = data1[col].quantile(0.75)
    IQR = Q3 - Q1
    
    lower_bound = Q1 - 1.5 * IQR
    upper_bound = Q3 + 1.5 * IQR
    
    # Count outliers
    outliers = data1[(data1[col] < lower_bound) | (data1[col] > upper_bound)]
    outlier_count = outliers.shape[0]
    
    print(f"{col}: {outlier_count} outliers")
    
    # Plot boxplot
    plt.figure(figsize=(6,4))
    sns.boxplot(x=data1[col])
    plt.title(f"Boxplot of {col} (Outliers: {outlier_count})")
    plt.show()



# Check outliers
for col in numerical_cols:
    Q1 = data1[col].quantile(0.25)
    Q3 = data1[col].quantile(0.75)
    IQR = Q3 - Q1
    
    lower_bound = Q1 - 1.5 * IQR
    upper_bound = Q3 + 1.5 * IQR
    
    # Count outliers
    outliers = data1[col][(data1[col] < lower_bound) | (data1[col] > upper_bound)]
    outlier_count = outliers.shape[0]
    if(outlier_count != 0):
        print(f"{col} \n{outliers}\n")

"""These outliers are important for model training.
    Some people may sleep for almost 12 horus 
    Some people's sleep score may be between 20-30
"""


data1.describe(include='number')


data2 = data1.drop('Quality_of_Sleep', axis=1)


data2['Quality_of_Sleep'] = data1['Quality_of_Sleep']


data2


# Convert into csv file for further use
data2.to_csv('Cleaned_Dataset.csv', index=False)
print('Successfully saved as Cleaned_Dataset.csv')






