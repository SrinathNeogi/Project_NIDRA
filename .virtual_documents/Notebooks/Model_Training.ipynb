








import numpy as np
import pandas as pd
import matplotlib.pyplot as plt
import seaborn as sns
import warnings

warnings.filterwarnings('ignore')





df = pd.read_csv('Scaled_Cleaned_Dataset.csv')
df


data = df.copy()
data


X = data.iloc[:,:-1]
y = data.iloc[:,-1]





from sklearn.model_selection import train_test_split


X_train, X_test, y_train, y_test = train_test_split(X,  y, test_size=0.25, random_state=1)


print(X_train.shape, X_test.shape)





import joblib
from sklearn.linear_model import LinearRegression
from sklearn.tree import DecisionTreeRegressor
from sklearn.ensemble import RandomForestRegressor, GradientBoostingRegressor
from sklearn.svm import SVR
from sklearn.neighbors import KNeighborsRegressor
from sklearn.metrics import mean_squared_error, r2_score

# Define models in a dictionary
models = {
    "LinearRegression": LinearRegression(),
    "DecisionTree": DecisionTreeRegressor(random_state=42),
    "RandomForest": RandomForestRegressor(random_state=42),
    "GradientBoosting": GradientBoostingRegressor(random_state=42),
    "SVR": SVR(),
    "KNN": KNeighborsRegressor()
}

predictions = []
scores = {}

# Train each model and collect predictions
for name, model in models.items():
    # Model training
    model.fit(X_train, y_train)
    
    # Save the trained model
    joblib.dump(model, f"{name}_model.pkl")
    
    # Prediction
    y_pred = model.predict(X_test)
    
    # Store predictions for ensemble
    predictions.append(y_pred)   
    
    # Evaluate each model
    mse = mean_squared_error(y_test, y_pred)
    r2 = r2_score(y_test, y_pred)
    scores[name] = {"MSE": mse, "R2": r2}

# Convert predictions list to array
predictions = np.array(predictions)

# Ensemble prediction by averaging
final_pred = np.mean(predictions, axis=0)

# Evaluate ensemble
ensemble_mse = mean_squared_error(y_test, final_pred)
ensemble_r2 = r2_score(y_test, final_pred)

print("---------------------------------------------------------------------")

print("Individual Model Scores:\n")
for name, score in scores.items():
    print(f"{name}: MSE={score['MSE']:.4f}, R2={score['R2']:.4f}")

print("\n---------------------------------------------------------------------")

print("\nEnsemble Model:")
print(f"MSE={ensemble_mse:.4f}, R2={ensemble_r2:.4f}")

print("\n---------------------------------------------------------------------")



scores
